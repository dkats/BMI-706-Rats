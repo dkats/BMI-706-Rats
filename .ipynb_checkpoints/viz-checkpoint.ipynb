{
 "cells": [
  {
   "cell_type": "code",
   "execution_count": 1,
   "metadata": {
    "tags": []
   },
   "outputs": [],
   "source": [
    "import altair as alt\n",
    "import pandas as pd\n",
    "import streamlit as st\n",
    "import xport\n",
    "import types    # Needed for @st.cache(hash_funcs={types.FunctionType: lambda _: None})"
   ]
  },
  {
   "cell_type": "code",
   "execution_count": 27,
   "metadata": {},
   "outputs": [],
   "source": [
    "# @st.cache_data(hash_funcs={types.FunctionType: lambda _: None})\n",
    "def load_data_xpt(filename, columns_to_keep=None):\n",
    "    with open(filename, 'rb') as f:\n",
    "        df = xport.to_dataframe(f)\n",
    "        \n",
    "        # If specific columns to keep have been specified, filter the DataFrame\n",
    "        if columns_to_keep is not None:\n",
    "            df = df[columns_to_keep]\n",
    "        return df\n",
    "\n",
    "# Load NHANES data\n",
    "f_body_measures = ['BMX_B.XPT','BMX_C.XPT','BMX_D.XPT','BMX_E.XPT','BMX_F.XPT','BMX_G.XPT','BMX_H.XPT','BMX_I.XPT','BMX_J.XPT','BMX.XPT','P_BMX.XPT']\n",
    "f_blood_pressures = ['BPX_B.XPT','BPX_C.XPT','BPX_D.XPT','BPX_E.XPT','BPX_F.XPT','BPX_G.XPT','BPX_H.XPT','BPX_I.XPT','BPX_J.XPT','BPX.XPT','P_BPXO.XPT','BPXO_J.XPT']\n",
    "f_demographics = ['DEMO_B.XPT','DEMO_C.XPT','DEMO_D.XPT','DEMO_E.XPT','DEMO_F.XPT','DEMO_G.XPT','DEMO_H.XPT','DEMO_I.XPT','DEMO_J.XPT','DEMO.XPT','P_DEMO.XPT']\n",
    "\n",
    "body_measures = load_data_xpt('nhanes/P_BMX.XPT', ['SEQN', 'BMDSTATS', 'BMXWT', 'BMXHT'])\n",
    "blood_pressures = load_data_xpt('nhanes/P_BPXO.XPT', ['SEQN', 'BPXOSY1', 'BPXODI1', 'BPXOSY2', 'BPXODI2', 'BPXOSY3', 'BPXODI3'])\n",
    "demographics = load_data_xpt('nhanes/P_DEMO.XPT', ['SEQN', 'RIAGENDR', 'RIDAGEYR', 'RIDAGEMN'])\n",
    "# Drop incomplete rows\n",
    "body_measures.dropna(inplace=True)\n",
    "# blood_pressures.dropna(inplace=True)\n",
    "demographics.dropna(inplace=True)\n",
    "\n",
    "# Load blood pressure tables\n",
    "fSBP = pd.read_csv('bp-tables/FemaleSBP.csv')\n",
    "fDBP = pd.read_csv('bp-tables/FemaleDBP.csv')\n",
    "mSBP = pd.read_csv('bp-tables/MaleSBP.csv')\n",
    "mDBP = pd.read_csv('bp-tables/MaleDBP.csv')"
   ]
  },
  {
   "cell_type": "code",
   "execution_count": 28,
   "metadata": {},
   "outputs": [
    {
     "name": "stdout",
     "output_type": "stream",
     "text": [
      "Dataset P_BMX\n",
      "    Variable Type  Length Format Informat Label  Position\n",
      "#                                                        \n",
      "1       SEQN         <NA>                               0\n",
      "2   BMDSTATS         <NA>                            <NA>\n",
      "3      BMXWT         <NA>                            <NA>\n",
      "4      BMXHT         <NA>                            <NA>\n",
      "5   RIAGENDR         <NA>                            <NA>\n",
      "6   RIDAGEYR         <NA>                            <NA>\n",
      "7   RIDAGEMN         <NA>                            <NA>\n",
      "8    BPXOSY1         <NA>                            <NA>\n",
      "9    BPXODI1         <NA>                            <NA>\n",
      "10   BPXOSY2         <NA>                            <NA>\n",
      "11   BPXODI2         <NA>                            <NA>\n",
      "12   BPXOSY3         <NA>                            <NA>\n",
      "13   BPXODI3         <NA>                            <NA>\n",
      "\n",
      "Empty Dataset\n",
      "Columns: [SEQN, BMDSTATS, BMXWT, BMXHT, RIAGENDR, RIDAGEYR, RIDAGEMN, BPXOSY1, BPXODI1, BPXOSY2, BPXODI2, BPXOSY3, BPXODI3]\n",
      "Index: []\n",
      "name: P_BMX, dataset_label: Body Measures, created: 2021-03-08 07:52:24, modified: 2021-03-08 07:52:24, sas_os: W32_8PRO, sas_version: 9.4\n",
      "\n"
     ]
    }
   ],
   "source": [
    "df = pd.merge(body_measures, demographics, on='SEQN', how='inner')\n",
    "df = pd.merge(df, blood_pressures, on='SEQN', how='inner')\n",
    "print(df)"
   ]
  },
  {
   "cell_type": "code",
   "execution_count": null,
   "metadata": {},
   "outputs": [],
   "source": []
  }
 ],
 "metadata": {
  "colab": {
   "provenance": []
  },
  "kernelspec": {
   "display_name": "Python 3 (ipykernel)",
   "language": "python",
   "name": "python3"
  },
  "language_info": {
   "codemirror_mode": {
    "name": "ipython",
    "version": 3
   },
   "file_extension": ".py",
   "mimetype": "text/x-python",
   "name": "python",
   "nbconvert_exporter": "python",
   "pygments_lexer": "ipython3",
   "version": "3.11.5"
  }
 },
 "nbformat": 4,
 "nbformat_minor": 4
}
