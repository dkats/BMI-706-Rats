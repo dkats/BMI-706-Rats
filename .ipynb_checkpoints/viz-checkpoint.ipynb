{
 "cells": [
  {
   "cell_type": "code",
   "execution_count": 1,
   "metadata": {
    "tags": []
   },
   "outputs": [],
   "source": [
    "import altair as alt\n",
    "import pandas as pd\n",
    "import streamlit as st\n",
    "import xport\n",
    "import types    # Needed for @st.cache(hash_funcs={types.FunctionType: lambda _: None})"
   ]
  },
  {
   "cell_type": "code",
   "execution_count": 3,
   "metadata": {},
   "outputs": [
    {
     "name": "stderr",
     "output_type": "stream",
     "text": [
      "2024-02-22 15:46:10.868 No runtime found, using MemoryCacheStorageManager\n"
     ]
    }
   ],
   "source": [
    "@st.cache_data(hash_funcs={types.FunctionType: lambda _: None})\n",
    "def load_data(filename):\n",
    "    with open(filename, 'rb') as f:\n",
    "        return xport.to_dataframe(f)\n",
    "\n",
    "body_measures = load_data('nhanes/P_BMX.XPT')\n",
    "blood_pressures = load_data('nhanes/P_BPXO.XPT')\n",
    "demographics = load_data('nhanes/P_DEMO.XPT')"
   ]
  },
  {
   "cell_type": "code",
   "execution_count": null,
   "metadata": {},
   "outputs": [],
   "source": []
  }
 ],
 "metadata": {
  "colab": {
   "provenance": []
  },
  "kernelspec": {
   "display_name": "Python 3 (ipykernel)",
   "language": "python",
   "name": "python3"
  },
  "language_info": {
   "codemirror_mode": {
    "name": "ipython",
    "version": 3
   },
   "file_extension": ".py",
   "mimetype": "text/x-python",
   "name": "python",
   "nbconvert_exporter": "python",
   "pygments_lexer": "ipython3",
   "version": "3.11.5"
  }
 },
 "nbformat": 4,
 "nbformat_minor": 4
}
