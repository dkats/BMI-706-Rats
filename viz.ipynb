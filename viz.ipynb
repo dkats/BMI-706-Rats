{
 "cells": [
  {
   "cell_type": "code",
   "execution_count": 1,
   "metadata": {
    "tags": []
   },
   "outputs": [],
   "source": [
    "import altair as alt\n",
    "import pandas as pd\n",
    "import streamlit as st\n",
    "import xport\n",
    "import types    # Needed for @st.cache(hash_funcs={types.FunctionType: lambda _: None})"
   ]
  },
  {
   "cell_type": "code",
   "execution_count": 4,
   "metadata": {},
   "outputs": [],
   "source": [
    "# @st.cache_data(hash_funcs={types.FunctionType: lambda _: None})\n",
    "def load_data(filename, columns_to_keep=None):\n",
    "    with open(filename, 'rb') as f:\n",
    "        df = xport.to_dataframe(f)\n",
    "        \n",
    "        # If specific columns to keep have been specified, filter the DataFrame\n",
    "        if columns_to_keep is not None:\n",
    "            df = df[columns_to_keep]\n",
    "        return df\n",
    "\n",
    "body_measures = load_data('nhanes/P_BMX.XPT', ['SEQN', 'BMDSTATS', 'BMXWT', 'BMXHT'])\n",
    "blood_pressures = load_data('nhanes/P_BPXO.XPT', ['SEQN', 'BPXOSY1', 'BPXODI1', 'BPXOSY2', 'BPXODI2', 'BPXOSY3', 'BPXODI3'])\n",
    "demographics = load_data('nhanes/P_DEMO.XPT', ['SEQN', 'RIAGENDR', 'RIDAGEYR', 'RIDAGEMN'])"
   ]
  },
  {
   "cell_type": "code",
   "execution_count": null,
   "metadata": {},
   "outputs": [],
   "source": []
  }
 ],
 "metadata": {
  "colab": {
   "provenance": []
  },
  "kernelspec": {
   "display_name": "Python 3 (ipykernel)",
   "language": "python",
   "name": "python3"
  },
  "language_info": {
   "codemirror_mode": {
    "name": "ipython",
    "version": 3
   },
   "file_extension": ".py",
   "mimetype": "text/x-python",
   "name": "python",
   "nbconvert_exporter": "python",
   "pygments_lexer": "ipython3",
   "version": "3.11.5"
  }
 },
 "nbformat": 4,
 "nbformat_minor": 4
}
